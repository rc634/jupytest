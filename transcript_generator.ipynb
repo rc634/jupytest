{
 "cells": [
  {
   "cell_type": "markdown",
   "id": "ae64b126",
   "metadata": {},
   "source": [
    "## Load needed modules and define path to data"
   ]
  },
  {
   "cell_type": "code",
   "execution_count": 1,
   "id": "10b50e48",
   "metadata": {},
   "outputs": [],
   "source": [
    "on_aws = False"
   ]
  },
  {
   "cell_type": "code",
   "execution_count": 2,
   "id": "348d0886",
   "metadata": {},
   "outputs": [],
   "source": [
    "#for speech to text\n",
    "import speech_recognition as sr"
   ]
  },
  {
   "cell_type": "code",
   "execution_count": 3,
   "id": "5edb008f",
   "metadata": {},
   "outputs": [
    {
     "data": {
      "text/plain": [
       "['pyannote/speaker-diarization',\n",
       " 'pyannote/overlapped-speech-detection',\n",
       " 'pyannote/voice-activity-detection',\n",
       " 'pyannote/speaker-segmentation']"
      ]
     },
     "execution_count": 3,
     "metadata": {},
     "output_type": "execute_result"
    }
   ],
   "source": [
    "#for pyannote-audio's diarisation\n",
    "import torch\n",
    "from huggingface_hub import HfApi\n",
    "available_pipelines = [p.modelId for p in HfApi().list_models(filter=\"pyannote-audio-pipeline\")]\n",
    "available_pipelines"
   ]
  },
  {
   "cell_type": "code",
   "execution_count": 4,
   "id": "55d34af4",
   "metadata": {},
   "outputs": [],
   "source": [
    "from pyannote.audio import Pipeline\n",
    "pipeline = Pipeline.from_pretrained(\"pyannote/speaker-diarization\")"
   ]
  },
  {
   "cell_type": "markdown",
   "id": "b9964e63",
   "metadata": {},
   "source": [
    "## List Files in Tarxya Bucket"
   ]
  },
  {
   "cell_type": "code",
   "execution_count": 5,
   "id": "e9c1c7c5",
   "metadata": {},
   "outputs": [],
   "source": [
    "if on_aws:\n",
    "    !aws s3 ls voicetarxya/purchased/"
   ]
  },
  {
   "cell_type": "markdown",
   "id": "c4196229",
   "metadata": {},
   "source": [
    "## Specify the file and desired time window"
   ]
  },
  {
   "cell_type": "code",
   "execution_count": 7,
   "id": "3460b493",
   "metadata": {},
   "outputs": [
    {
     "name": "stdout",
     "output_type": "stream",
     "text": [
      "NOT ON AWS!\n",
      "audio.wav\r\n"
     ]
    }
   ],
   "source": [
    "if on_aws:\n",
    "    print(\"ON AWS!\")\n",
    "    !aws s3 cp s3://voicetarxya/purchased/in-443303309465-07449988008-20190624-110909-1561370949.138008.wav test_audio_from_s3.wav\n",
    "    #!aws s3 cp s3://voicetarxya/purchased/q-801-1562945353.213997.wav test_audio_from_s3.wav\n",
    "    !ls *wav\n",
    "    base = \"test_audio_from_s3\" \n",
    "    audio = base + \".wav\" \n",
    "    GLOBAL_START = 0. \n",
    "    GLOBAL_END = 60. \n",
    "if not on_aws:\n",
    "    print(\"NOT ON AWS!\")\n",
    "    !ls *wav\n",
    "    base = \"audio\" \n",
    "    audio = base + \".wav\"\n",
    "    GLOBAL_START = 480.\n",
    "    GLOBAL_END = 540."
   ]
  },
  {
   "cell_type": "markdown",
   "id": "b60187b7",
   "metadata": {},
   "source": [
    "## Speech to text on specified time segment"
   ]
  },
  {
   "cell_type": "code",
   "execution_count": 8,
   "id": "3cfa2f39",
   "metadata": {},
   "outputs": [],
   "source": [
    "r = sr.Recognizer()\n",
    "audio_sr = sr.AudioFile(audio)\n",
    "\n"
   ]
  },
  {
   "cell_type": "code",
   "execution_count": 9,
   "id": "143d2567",
   "metadata": {},
   "outputs": [
    {
     "name": "stdout",
     "output_type": "stream",
     "text": [
      "cheers yeah none of it comes back out to me it's a limited company and it just says the third one is there are four of us it's a mental health trust yeah and the money just goes into pay the employees salary I don't take anything from it no could I know no sure ok so that I don't want to take it and then got someone goes all that wasn't are no woman no no no what I'm going to do is I'll basically what you said he's going to ring up 84 UK and clarify that with them so I think it's important to so first one is it's open but there's nothing going in and it's not trading or non-trading ok the second one is cash in but it goes automatically so that's holiday lettings and it automatically just get it it's in the business it's a limited\n"
     ]
    }
   ],
   "source": [
    "with audio_sr as source:\n",
    "    audiodata = r.record(source, offset=GLOBAL_START, duration = GLOBAL_END-GLOBAL_START)\n",
    "try:\n",
    "    print(r.recognize_google(audiodata,language=\"en-GB\"))\n",
    "except Exception as e:\n",
    "    print(\"Error : \" + str(e))"
   ]
  },
  {
   "cell_type": "markdown",
   "id": "6dbafbb5",
   "metadata": {},
   "source": [
    "# WARNING THE NEXT CELL IS SLOW TO RUN, DONT RUN UNLESS NEED!\n",
    "## this performs the diarisation on the entire audio file, it takes a while to run"
   ]
  },
  {
   "cell_type": "code",
   "execution_count": 12,
   "id": "5d49eafb",
   "metadata": {
    "deletable": false,
    "editable": false
   },
   "outputs": [],
   "source": [
    "# diarization\n",
    "dia = pipeline(audio)"
   ]
  },
  {
   "cell_type": "code",
   "execution_count": 13,
   "id": "682f11b3",
   "metadata": {},
   "outputs": [
    {
     "data": {
      "image/png": "[encoded data removed]",
      "text/plain": [
       "<pyannote.core.annotation.Annotation at 0x7f88e66f3580>"
      ]
     },
     "execution_count": 13,
     "metadata": {},
     "output_type": "execute_result"
    }
   ],
   "source": [
    "# plot whole dia\n",
    "dia"
   ]
  },
  {
   "cell_type": "code",
   "execution_count": 14,
   "id": "866907cc",
   "metadata": {},
   "outputs": [
    {
     "data": {
      "image/png": "[encoded data removed]",
      "text/plain": [
       "<pyannote.core.annotation.Annotation at 0x7f88e66f3580>"
      ]
     },
     "execution_count": 14,
     "metadata": {},
     "output_type": "execute_result"
    }
   ],
   "source": [
    "# crop time interval and replot\n",
    "from pyannote.core import notebook, Segment\n",
    "notebook.crop = Segment(GLOBAL_START, GLOBAL_END)\n",
    "dia"
   ]
  },
  {
   "cell_type": "markdown",
   "id": "c37efc71",
   "metadata": {},
   "source": [
    "## Print out resulting time buckets of diarisation within desired time section\n",
    "## Visualise the output "
   ]
  },
  {
   "cell_type": "code",
   "execution_count": 15,
   "id": "5ecc56ac",
   "metadata": {},
   "outputs": [
    {
     "name": "stdout",
     "output_type": "stream",
     "text": [
      "start=480.3s stop=480.8s speaker_SPEAKER_01\n",
      "start=480.6s stop=480.8s speaker_SPEAKER_00\n",
      "start=481.1s stop=483.9s speaker_SPEAKER_01\n",
      "start=481.1s stop=481.5s speaker_SPEAKER_00\n",
      "start=484.3s stop=486.3s speaker_SPEAKER_01\n",
      "start=486.9s stop=487.3s speaker_SPEAKER_01\n",
      "start=487.5s stop=490.9s speaker_SPEAKER_01\n",
      "start=491.5s stop=492.4s speaker_SPEAKER_00\n",
      "start=491.8s stop=495.5s speaker_SPEAKER_01\n",
      "start=495.8s stop=496.7s speaker_SPEAKER_01\n",
      "start=498.5s stop=500.6s speaker_SPEAKER_00\n",
      "start=501.0s stop=501.7s speaker_SPEAKER_01\n",
      "start=502.6s stop=504.1s speaker_SPEAKER_00\n",
      "start=504.3s stop=505.2s speaker_SPEAKER_01\n",
      "start=504.4s stop=504.9s speaker_SPEAKER_00\n",
      "start=505.4s stop=506.4s speaker_SPEAKER_01\n",
      "start=506.7s stop=509.2s speaker_SPEAKER_01\n",
      "start=510.0s stop=510.5s speaker_SPEAKER_00\n",
      "start=510.1s stop=511.2s speaker_SPEAKER_01\n",
      "start=511.4s stop=518.6s speaker_SPEAKER_00\n",
      "start=519.0s stop=520.5s speaker_SPEAKER_00\n",
      "start=520.8s stop=523.1s speaker_SPEAKER_00\n",
      "start=523.7s stop=524.5s speaker_SPEAKER_00\n",
      "start=524.1s stop=525.5s speaker_SPEAKER_01\n",
      "start=525.6s stop=527.8s speaker_SPEAKER_00\n",
      "start=528.8s stop=536.6s speaker_SPEAKER_00\n",
      "start=535.0s stop=537.0s speaker_SPEAKER_01\n",
      "start=537.2s stop=538.2s speaker_SPEAKER_01\n",
      "start=538.5s stop=539.7s speaker_SPEAKER_01\n"
     ]
    }
   ],
   "source": [
    "for turn, _, speaker in dia.itertracks(yield_label=True):\n",
    "    if (turn.start > GLOBAL_START and turn.start < GLOBAL_END):\n",
    "        print(f\"start={turn.start:.1f}s stop={turn.end:.1f}s speaker_{speaker}\")"
   ]
  },
  {
   "cell_type": "markdown",
   "id": "c132e651",
   "metadata": {},
   "source": [
    "## Speech recognition on the above diarisation time bins and output with labelled speakers"
   ]
  },
  {
   "cell_type": "code",
   "execution_count": 16,
   "id": "6f2bfe90",
   "metadata": {},
   "outputs": [
    {
     "name": "stdout",
     "output_type": "stream",
     "text": [
      "audio.wav\r\n"
     ]
    }
   ],
   "source": [
    "r = sr.Recognizer()\n",
    "audio_sr = sr.AudioFile(audio)\n",
    "!ls *wav"
   ]
  },
  {
   "cell_type": "code",
   "execution_count": 17,
   "id": "791f84c8",
   "metadata": {},
   "outputs": [
    {
     "name": "stdout",
     "output_type": "stream",
     "text": [
      "SPEAKER_01 : ???\n",
      "\n",
      "SPEAKER_00 : ???\n",
      "\n",
      "SPEAKER_01 : none of it comes back out to me it's a\n",
      "\n",
      "SPEAKER_00 : ???\n",
      "\n",
      "SPEAKER_01 : and it just stays there\n",
      "\n",
      "SPEAKER_01 : ???\n",
      "\n",
      "SPEAKER_01 : there were four of us it's a mental\n",
      "\n",
      "SPEAKER_00 : ???\n",
      "\n",
      "SPEAKER_01 : yeah and the manor just goes in to pay the employees\n",
      "\n",
      "SPEAKER_01 : anything\n",
      "\n",
      "SPEAKER_00 : ???\n",
      "\n",
      "SPEAKER_01 : ???\n",
      "\n",
      "SPEAKER_00 : no no sure\n",
      "\n",
      "SPEAKER_01 : ???\n",
      "\n",
      "SPEAKER_00 : ???\n",
      "\n",
      "SPEAKER_01 : ???\n",
      "\n",
      "SPEAKER_01 : take it and then go and someone goes all that\n",
      "\n",
      "SPEAKER_00 : ???\n",
      "\n",
      "SPEAKER_01 : no\n",
      "\n",
      "SPEAKER_00 : no no no what I'm going to do is I'll basically what you said it's going to ring up 8 for UK and clarify that with them so I think it's in\n",
      "\n",
      "SPEAKER_00 : first one\n",
      "\n",
      "SPEAKER_00 : is it open but there's no\n",
      "\n",
      "SPEAKER_00 : ???\n",
      "\n",
      "SPEAKER_01 : and now it's not\n",
      "\n",
      "SPEAKER_00 : oh no not trading\n",
      "\n",
      "SPEAKER_00 : the second one is cash in but it goes automatically so that's holiday lettings and it automatically just get those\n",
      "\n",
      "SPEAKER_01 : actually just get\n",
      "\n",
      "SPEAKER_01 : ???\n",
      "\n",
      "SPEAKER_01 : ???\n",
      "\n"
     ]
    }
   ],
   "source": [
    "for turn, _, speaker in dia.itertracks(yield_label=True):\n",
    "    start_time = turn.start\n",
    "    end_time = turn.end\n",
    "    if (turn.start > GLOBAL_START and turn.start < GLOBAL_END):\n",
    "        with audio_sr as source:\n",
    "            audiodata = r.record(source, offset=start_time-0.1, duration = end_time-start_time+0.1)\n",
    "        try:\n",
    "            words = r.recognize_google(audiodata,language=\"en-GB\")\n",
    "            #print(f\"*------------------------START---------t={turn.start:.1f}s--------*\")\n",
    "            print(f\"{speaker} : {words}\")\n",
    "            print(\"\")\n",
    "            #print(f\"*-------------------------END----------t={turn.end:.1f}s--------*\")\n",
    "        except Exception as e:\n",
    "            print(f\"{speaker} : ???\")\n",
    "            print(\"\")\n",
    "        "
   ]
  },
  {
   "cell_type": "markdown",
   "id": "e03f74b7",
   "metadata": {},
   "source": [
    "## My attempt at stitching audio pieces together"
   ]
  },
  {
   "cell_type": "markdown",
   "id": "1968b2f1",
   "metadata": {},
   "source": [
    "##### idea here is that sometimes continuous speach by one speaker is broken into multiple chunks here, one long chunk is better for speech to text"
   ]
  },
  {
   "cell_type": "code",
   "execution_count": 18,
   "id": "488f3583",
   "metadata": {},
   "outputs": [
    {
     "name": "stdout",
     "output_type": "stream",
     "text": [
      "start=477.4s stop=480.1s speaker_SPEAKER_01\n",
      "start=480.3s stop=480.8s speaker_SPEAKER_01\n",
      "start=480.6s stop=480.8s speaker_SPEAKER_00\n",
      "start=481.1s stop=483.9s speaker_SPEAKER_01\n",
      "start=481.1s stop=481.5s speaker_SPEAKER_00\n",
      "start=484.3s stop=486.3s speaker_SPEAKER_01\n",
      "start=486.9s stop=487.3s speaker_SPEAKER_01\n",
      "start=487.5s stop=490.9s speaker_SPEAKER_01\n",
      "start=491.5s stop=492.4s speaker_SPEAKER_00\n",
      "start=491.8s stop=495.5s speaker_SPEAKER_01\n",
      "start=495.8s stop=496.7s speaker_SPEAKER_01\n",
      "start=498.5s stop=500.6s speaker_SPEAKER_00\n",
      "start=501.0s stop=501.7s speaker_SPEAKER_01\n",
      "start=502.6s stop=504.1s speaker_SPEAKER_00\n",
      "start=504.3s stop=505.2s speaker_SPEAKER_01\n",
      "start=504.4s stop=504.9s speaker_SPEAKER_00\n",
      "start=505.4s stop=506.4s speaker_SPEAKER_01\n",
      "start=506.7s stop=509.2s speaker_SPEAKER_01\n",
      "start=510.0s stop=510.5s speaker_SPEAKER_00\n",
      "start=510.1s stop=511.2s speaker_SPEAKER_01\n",
      "start=511.4s stop=518.6s speaker_SPEAKER_00\n",
      "start=519.0s stop=520.5s speaker_SPEAKER_00\n",
      "start=520.8s stop=523.1s speaker_SPEAKER_00\n",
      "start=523.7s stop=524.5s speaker_SPEAKER_00\n",
      "start=524.1s stop=525.5s speaker_SPEAKER_01\n",
      "start=525.6s stop=527.8s speaker_SPEAKER_00\n",
      "start=528.8s stop=536.6s speaker_SPEAKER_00\n",
      "start=535.0s stop=537.0s speaker_SPEAKER_01\n",
      "start=537.2s stop=538.2s speaker_SPEAKER_01\n",
      "start=538.5s stop=539.7s speaker_SPEAKER_01\n"
     ]
    }
   ],
   "source": [
    "# list each bin output from diariazation, some adjacent bins have the same speaker\n",
    "\n",
    "speech_fragments = []\n",
    "for turn, track, speaker in dia.itertracks(yield_label=True):\n",
    "    if (turn.end > GLOBAL_START and turn.start < GLOBAL_END):\n",
    "        speech_fragments += [[speaker,turn.start,turn.end,\"new\"]]\n",
    "        print(f\"start={turn.start:.1f}s stop={turn.end:.1f}s speaker_{speaker}\")\n",
    "#for i in range(len(speech_fragments)): print(speech_fragments[i])"
   ]
  },
  {
   "cell_type": "code",
   "execution_count": 19,
   "id": "68442360",
   "metadata": {},
   "outputs": [
    {
     "name": "stdout",
     "output_type": "stream",
     "text": [
      "['SPEAKER_01', 477.43218750000005, 480.8240625, 'new']\n",
      "['SPEAKER_01', 477.43218750000005, 480.8240625, 'repeat']\n",
      "['SPEAKER_00', 480.62156250000004, 480.80718750000005, 'new']\n",
      "['SPEAKER_01', 481.07718750000004, 483.9121875, 'new']\n",
      "['SPEAKER_00', 481.14468750000003, 481.49906250000004, 'new']\n",
      "['SPEAKER_01', 484.3003125, 490.89843750000006, 'new']\n",
      "['SPEAKER_01', 484.3003125, 490.89843750000006, 'repeat']\n",
      "['SPEAKER_01', 486.8990625, 490.89843750000006, 'repeat']\n",
      "['SPEAKER_00', 491.5396875, 492.36656250000004, 'new']\n",
      "['SPEAKER_01', 491.8265625, 496.7371875, 'new']\n",
      "['SPEAKER_01', 491.8265625, 496.7371875, 'repeat']\n",
      "['SPEAKER_00', 498.5090625, 500.63531250000005, 'new']\n",
      "['SPEAKER_01', 500.9559375, 501.6984375, 'new']\n",
      "['SPEAKER_00', 502.64343750000006, 504.0946875, 'new']\n",
      "['SPEAKER_01', 504.33093750000006, 505.15781250000003, 'new']\n",
      "['SPEAKER_00', 504.38156250000003, 504.9046875, 'new']\n",
      "['SPEAKER_01', 505.3603125, 509.17406250000005, 'new']\n",
      "['SPEAKER_01', 505.3603125, 509.17406250000005, 'repeat']\n",
      "['SPEAKER_00', 509.95031250000005, 510.5240625, 'new']\n",
      "['SPEAKER_01', 510.08531250000004, 511.18218750000005, 'new']\n",
      "['SPEAKER_00', 511.4353125, 524.5134375, 'new']\n",
      "['SPEAKER_00', 511.4353125, 524.5134375, 'repeat']\n",
      "['SPEAKER_00', 519.0290625, 524.5134375, 'repeat']\n",
      "['SPEAKER_00', 520.7671875000001, 524.5134375, 'repeat']\n",
      "['SPEAKER_01', 524.0578125000001, 525.5428125000001, 'new']\n",
      "['SPEAKER_00', 525.6440625, 536.5790625000001, 'new']\n",
      "['SPEAKER_00', 525.6440625, 536.5790625000001, 'repeat']\n",
      "['SPEAKER_01', 534.9759375, 539.7009375, 'new']\n",
      "['SPEAKER_01', 534.9759375, 539.7009375, 'repeat']\n",
      "['SPEAKER_01', 537.1528125, 539.7009375, 'repeat']\n"
     ]
    }
   ],
   "source": [
    "# label if speaker is new or repeated and \n",
    "# make the \"new\" buckets have start and end times that absorb the later buckets with same speaker\n",
    "\n",
    "# the reverse loop is important as we want to pull the latest finish time to the first start time\n",
    "\n",
    "for i in reversed(range(len(speech_fragments)-1)): \n",
    "    frag = speech_fragments[i]\n",
    "    nextfrag = speech_fragments[i+1]\n",
    "    if frag[0]==nextfrag[0]:\n",
    "        nextfrag[1] = frag[1]\n",
    "        frag[2]=nextfrag[2]\n",
    "        nextfrag[3] = \"repeat\"\n",
    "    \n",
    "for frag in speech_fragments: print(frag)\n",
    "        \n"
   ]
  },
  {
   "cell_type": "code",
   "execution_count": 20,
   "id": "ba396e3f",
   "metadata": {},
   "outputs": [
    {
     "name": "stdout",
     "output_type": "stream",
     "text": [
      "start=477.4s stop=480.8s speaker_SPEAKER_01\n",
      "start=480.6s stop=480.8s speaker_SPEAKER_00\n",
      "start=481.1s stop=483.9s speaker_SPEAKER_01\n",
      "start=481.1s stop=481.5s speaker_SPEAKER_00\n",
      "start=484.3s stop=490.9s speaker_SPEAKER_01\n",
      "start=491.5s stop=492.4s speaker_SPEAKER_00\n",
      "start=491.8s stop=496.7s speaker_SPEAKER_01\n",
      "start=498.5s stop=500.6s speaker_SPEAKER_00\n",
      "start=501.0s stop=501.7s speaker_SPEAKER_01\n",
      "start=502.6s stop=504.1s speaker_SPEAKER_00\n",
      "start=504.3s stop=505.2s speaker_SPEAKER_01\n",
      "start=504.4s stop=504.9s speaker_SPEAKER_00\n",
      "start=505.4s stop=509.2s speaker_SPEAKER_01\n",
      "start=510.0s stop=510.5s speaker_SPEAKER_00\n",
      "start=510.1s stop=511.2s speaker_SPEAKER_01\n",
      "start=511.4s stop=524.5s speaker_SPEAKER_00\n",
      "start=524.1s stop=525.5s speaker_SPEAKER_01\n",
      "start=525.6s stop=536.6s speaker_SPEAKER_00\n",
      "start=535.0s stop=539.7s speaker_SPEAKER_01\n"
     ]
    }
   ],
   "source": [
    "# output the modified/grrouped buckets so that there are no more neighbouting buckets with same speaker\n",
    "\n",
    "fixed_speech = []      \n",
    "for frag in speech_fragments:\n",
    "    if (frag[3]==\"new\"):\n",
    "        fixed_speech += [frag]\n",
    "        \n",
    "for frag in fixed_speech: print(f\"start={frag[1]:.1f}s stop={frag[2]:.1f}s speaker_{frag[0]}\")\n",
    "        "
   ]
  },
  {
   "cell_type": "markdown",
   "id": "01843f2f",
   "metadata": {},
   "source": [
    "## Here print the STT on the grouped speech buckets"
   ]
  },
  {
   "cell_type": "code",
   "execution_count": 21,
   "id": "5e9c409c",
   "metadata": {},
   "outputs": [
    {
     "name": "stdout",
     "output_type": "stream",
     "text": [
      "SPEAKER_01 : that takes cash in as people stay in the lodge\n",
      "\n",
      "SPEAKER_00 : ??? \n",
      "\n",
      "SPEAKER_01 : none of it comes back out to me it's a\n",
      "\n",
      "SPEAKER_00 : ??? \n",
      "\n",
      "SPEAKER_01 : and it just says the third one is there for four of us it's a mental\n",
      "\n",
      "SPEAKER_00 : ??? \n",
      "\n",
      "SPEAKER_01 : yeah and the manor just goes in to pay the employees salary I don't take\n",
      "\n",
      "SPEAKER_00 : ??? \n",
      "\n",
      "SPEAKER_01 : ??? \n",
      "\n",
      "SPEAKER_00 : no no sure\n",
      "\n",
      "SPEAKER_01 : ??? \n",
      "\n",
      "SPEAKER_00 : ??? \n",
      "\n",
      "SPEAKER_01 : is that I don't want to take it and then go and someone goes\n",
      "\n",
      "SPEAKER_00 : ??? \n",
      "\n",
      "SPEAKER_01 : no\n",
      "\n",
      "SPEAKER_00 : no no no what I'm going to do is I'll basically what you said it's going to ring up 8 for UK and clarify that with them so I think it's important to so first one is it open but there's nothing going in\n",
      "\n",
      "SPEAKER_01 : and now it's not\n",
      "\n",
      "SPEAKER_00 : oh well not trading ok the second one is cash in but it goes automatically so that's holiday lettings and it automatically just get those\n",
      "\n",
      "SPEAKER_01 : actually just get so it's in the business it's\n",
      "\n"
     ]
    }
   ],
   "source": [
    "for frag in fixed_speech:\n",
    "    with audio_sr as source:\n",
    "            audiodata = r.record(source, offset=frag[1]-0.1, duration = frag[2]-frag[1]+0.1)\n",
    "    try:\n",
    "        words = r.recognize_google(audiodata,language=\"en-GB\")\n",
    "        #print(f\"*------------------------START---------t={frag[1]:.1f}s--------*\")\n",
    "        print(f\"{frag[0]} : {words}\")\n",
    "        print(\"\")\n",
    "        #print(f\"*-------------------------END----------t={frag[2]:.1f}s--------*\")\n",
    "    except Exception as e:\n",
    "        #print(f\"*------------------------START---------t={frag[1]:.1f}s--------*\")\n",
    "        print(f\"{frag[0]} : ??? \")\n",
    "        print(\"\")\n",
    "        #print(f\"*-------------------------END----------t={frag[2]:.1f}s--------*\")\n",
    "    "
   ]
  },
  {
   "cell_type": "markdown",
   "id": "95cd7bc7",
   "metadata": {},
   "source": [
    "## hand transcribed"
   ]
  },
  {
   "cell_type": "markdown",
   "id": "ed525fd6",
   "metadata": {},
   "source": [
    "SPEAKER_00 : yeah \n",
    "\n",
    "SPEAKER_01 : but none of it comes back out to me it's a limited company and it just says there the third one is umm there are four four of us it's a mental health trust \n",
    "\n",
    "SPEAKER_00 : yeah \n",
    "\n",
    "SPEAKER_01 : and the money just goes in to pay the employees salary I don't take anything from it \n",
    "\n",
    "SPEAKER_00 : errrr\n",
    "\n",
    "SPEAKER_01 : and nor could I \n",
    "\n",
    "SPEAKER_00 : no no sure erm ok \n",
    "\n",
    "SPEAKER_01 : it's that I don't want to take it and then gum(?) someone goes ah well that wasn't our\n",
    "\n",
    "SPEAKER_00 : no \n",
    "\n",
    "??? \n",
    "\n",
    "SPEAKER_00 : no no no what I'm going to do is I'll based on what you said is i'm going to ring up april(?) UK and clarify that with them cos I think it's important to so\n",
    "\n",
    "SPEAKER_01 : yea\n",
    "\n",
    "SPEAKER_00 : first one is it's open but there's nothing going in and \n",
    "\n",
    "SPEAKER_01 : or out it's not trading \n",
    "\n",
    "SPEAKER_00 : or out not trading ok the second one is cash in but it goes automatically so that's holiday lettings and it automatically just \n",
    "\n",
    "SPEAKER_01 : well yea it sits in the business it sits in the business it's a limited company"
   ]
  },
  {
   "cell_type": "markdown",
   "id": "3c572f87",
   "metadata": {},
   "source": [
    "# To do"
   ]
  },
  {
   "cell_type": "markdown",
   "id": "d1a3b870",
   "metadata": {},
   "source": [
    "#### -> try ignoring bins of too small width or merge them with bigger bins\n",
    "#### -> try messing with yield_label=True in the dia.intertracks\n",
    "#### -> look into the _ argument too?\n",
    "#### -> try extending bins to regions of no speech, maybe improves accuracy?"
   ]
  },
  {
   "cell_type": "code",
   "execution_count": null,
   "id": "33b5592c",
   "metadata": {},
   "outputs": [],
   "source": []
  },
  {
   "cell_type": "code",
   "execution_count": null,
   "id": "e8946305",
   "metadata": {},
   "outputs": [],
   "source": []
  },
  {
   "cell_type": "code",
   "execution_count": null,
   "id": "ff842db4",
   "metadata": {},
   "outputs": [],
   "source": []
  },
  {
   "cell_type": "code",
   "execution_count": null,
   "id": "d3dc6e2b",
   "metadata": {},
   "outputs": [],
   "source": []
  },
  {
   "cell_type": "code",
   "execution_count": null,
   "id": "808637ea",
   "metadata": {},
   "outputs": [],
   "source": []
  },
  {
   "cell_type": "code",
   "execution_count": null,
   "id": "3dfa1b36",
   "metadata": {},
   "outputs": [],
   "source": []
  },
  {
   "cell_type": "code",
   "execution_count": null,
   "id": "0127d99b",
   "metadata": {},
   "outputs": [],
   "source": []
  },
  {
   "cell_type": "code",
   "execution_count": null,
   "id": "6f649806",
   "metadata": {},
   "outputs": [],
   "source": []
  },
  {
   "cell_type": "code",
   "execution_count": null,
   "id": "04bb5835",
   "metadata": {},
   "outputs": [],
   "source": []
  },
  {
   "cell_type": "code",
   "execution_count": null,
   "id": "14b17ff5",
   "metadata": {},
   "outputs": [],
   "source": []
  },
  {
   "cell_type": "code",
   "execution_count": null,
   "id": "9bb69530",
   "metadata": {},
   "outputs": [],
   "source": []
  },
  {
   "cell_type": "code",
   "execution_count": null,
   "id": "3bfeee45",
   "metadata": {},
   "outputs": [],
   "source": []
  }
 ],
 "metadata": {
  "kernelspec": {
   "display_name": "Python 3 (ipykernel)",
   "language": "python",
   "name": "python3"
  },
  "language_info": {
   "codemirror_mode": {
    "name": "ipython",
    "version": 3
   },
   "file_extension": ".py",
   "mimetype": "text/x-python",
   "name": "python",
   "nbconvert_exporter": "python",
   "pygments_lexer": "ipython3",
   "version": "3.8.13"
  }
 },
 "nbformat": 4,
 "nbformat_minor": 5
}
