{
 "cells": [
  {
   "cell_type": "markdown",
   "id": "ae64b126",
   "metadata": {},
   "source": [
    "## Load needed modules and define path to data"
   ]
  },
  {
   "cell_type": "code",
   "execution_count": 2,
   "id": "348d0886",
   "metadata": {},
   "outputs": [],
   "source": [
    "#for speech to text\n",
    "import speech_recognition as sr"
   ]
  },
  {
   "cell_type": "code",
   "execution_count": 3,
   "id": "5edb008f",
   "metadata": {},
   "outputs": [
    {
     "data": {
      "text/plain": [
       "['pyannote/speaker-diarization',\n",
       " 'pyannote/overlapped-speech-detection',\n",
       " 'pyannote/voice-activity-detection',\n",
       " 'pyannote/speaker-segmentation']"
      ]
     },
     "execution_count": 3,
     "metadata": {},
     "output_type": "execute_result"
    }
   ],
   "source": [
    "#for pyannote-audio's diarisation\n",
    "import torch\n",
    "from huggingface_hub import HfApi\n",
    "available_pipelines = [p.modelId for p in HfApi().list_models(filter=\"pyannote-audio-pipeline\")]\n",
    "available_pipelines"
   ]
  },
  {
   "cell_type": "code",
   "execution_count": 9,
   "id": "55d34af4",
   "metadata": {},
   "outputs": [
    {
     "ename": "TypeError",
     "evalue": "cached_download() takes 1 positional argument but 2 were given",
     "output_type": "error",
     "traceback": [
      "\u001b[0;31m---------------------------------------------------------------------------\u001b[0m",
      "\u001b[0;31mTypeError\u001b[0m                                 Traceback (most recent call last)",
      "Input \u001b[0;32mIn [9]\u001b[0m, in \u001b[0;36m<cell line: 2>\u001b[0;34m()\u001b[0m\n\u001b[1;32m      1\u001b[0m \u001b[38;5;28;01mfrom\u001b[39;00m \u001b[38;5;21;01mpyannote\u001b[39;00m\u001b[38;5;21;01m.\u001b[39;00m\u001b[38;5;21;01maudio\u001b[39;00m \u001b[38;5;28;01mimport\u001b[39;00m Pipeline\n\u001b[0;32m----> 2\u001b[0m pipeline \u001b[38;5;241m=\u001b[39m \u001b[43mPipeline\u001b[49m\u001b[38;5;241;43m.\u001b[39;49m\u001b[43mfrom_pretrained\u001b[49m\u001b[43m(\u001b[49m\u001b[38;5;124;43m\"\u001b[39;49m\u001b[38;5;124;43mpyannote/speaker-diarization\u001b[39;49m\u001b[38;5;124;43m\"\u001b[39;49m\u001b[43m)\u001b[49m\n",
      "File \u001b[0;32m~/.local/lib/python3.10/site-packages/pyannote/audio/core/pipeline.py:98\u001b[0m, in \u001b[0;36mPipeline.from_pretrained\u001b[0;34m(cls, checkpoint_path, hparams_file, use_auth_token, cache_dir)\u001b[0m\n\u001b[1;32m     94\u001b[0m pipeline_name \u001b[38;5;241m=\u001b[39m config[\u001b[38;5;124m\"\u001b[39m\u001b[38;5;124mpipeline\u001b[39m\u001b[38;5;124m\"\u001b[39m][\u001b[38;5;124m\"\u001b[39m\u001b[38;5;124mname\u001b[39m\u001b[38;5;124m\"\u001b[39m]\n\u001b[1;32m     95\u001b[0m Klass \u001b[38;5;241m=\u001b[39m get_class_by_name(\n\u001b[1;32m     96\u001b[0m     pipeline_name, default_module_name\u001b[38;5;241m=\u001b[39m\u001b[38;5;124m\"\u001b[39m\u001b[38;5;124mpyannote.pipeline.blocks\u001b[39m\u001b[38;5;124m\"\u001b[39m\n\u001b[1;32m     97\u001b[0m )\n\u001b[0;32m---> 98\u001b[0m pipeline \u001b[38;5;241m=\u001b[39m \u001b[43mKlass\u001b[49m\u001b[43m(\u001b[49m\u001b[38;5;241;43m*\u001b[39;49m\u001b[38;5;241;43m*\u001b[39;49m\u001b[43mconfig\u001b[49m\u001b[43m[\u001b[49m\u001b[38;5;124;43m\"\u001b[39;49m\u001b[38;5;124;43mpipeline\u001b[39;49m\u001b[38;5;124;43m\"\u001b[39;49m\u001b[43m]\u001b[49m\u001b[38;5;241;43m.\u001b[39;49m\u001b[43mget\u001b[49m\u001b[43m(\u001b[49m\u001b[38;5;124;43m\"\u001b[39;49m\u001b[38;5;124;43mparams\u001b[39;49m\u001b[38;5;124;43m\"\u001b[39;49m\u001b[43m,\u001b[49m\u001b[43m \u001b[49m\u001b[43m{\u001b[49m\u001b[43m}\u001b[49m\u001b[43m)\u001b[49m\u001b[43m)\u001b[49m\n\u001b[1;32m    100\u001b[0m \u001b[38;5;66;03m# freeze  parameters\u001b[39;00m\n\u001b[1;32m    101\u001b[0m \u001b[38;5;28;01mif\u001b[39;00m \u001b[38;5;124m\"\u001b[39m\u001b[38;5;124mfreeze\u001b[39m\u001b[38;5;124m\"\u001b[39m \u001b[38;5;129;01min\u001b[39;00m config:\n",
      "File \u001b[0;32m~/.local/lib/python3.10/site-packages/pyannote/audio/pipelines/speaker_diarization.py:117\u001b[0m, in \u001b[0;36mSpeakerDiarization.__init__\u001b[0;34m(self, segmentation, embedding, clustering, expects_num_speakers, segmentation_batch_size, embedding_batch_size)\u001b[0m\n\u001b[1;32m    112\u001b[0m \u001b[38;5;28mself\u001b[39m\u001b[38;5;241m.\u001b[39m_segmentation \u001b[38;5;241m=\u001b[39m Inference(\n\u001b[1;32m    113\u001b[0m     model, skip_aggregation\u001b[38;5;241m=\u001b[39m\u001b[38;5;28;01mTrue\u001b[39;00m, batch_size\u001b[38;5;241m=\u001b[39m\u001b[38;5;28mself\u001b[39m\u001b[38;5;241m.\u001b[39msegmentation_batch_size\n\u001b[1;32m    114\u001b[0m )\n\u001b[1;32m    115\u001b[0m \u001b[38;5;28mself\u001b[39m\u001b[38;5;241m.\u001b[39m_frames: SlidingWindow \u001b[38;5;241m=\u001b[39m \u001b[38;5;28mself\u001b[39m\u001b[38;5;241m.\u001b[39m_segmentation\u001b[38;5;241m.\u001b[39mmodel\u001b[38;5;241m.\u001b[39mintrospection\u001b[38;5;241m.\u001b[39mframes\n\u001b[0;32m--> 117\u001b[0m \u001b[38;5;28mself\u001b[39m\u001b[38;5;241m.\u001b[39m_embedding \u001b[38;5;241m=\u001b[39m \u001b[43mPretrainedSpeakerEmbedding\u001b[49m\u001b[43m(\u001b[49m\u001b[38;5;28;43mself\u001b[39;49m\u001b[38;5;241;43m.\u001b[39;49m\u001b[43membedding\u001b[49m\u001b[43m,\u001b[49m\u001b[43m \u001b[49m\u001b[43mdevice\u001b[49m\u001b[38;5;241;43m=\u001b[39;49m\u001b[43memb_device\u001b[49m\u001b[43m)\u001b[49m\n\u001b[1;32m    118\u001b[0m \u001b[38;5;28mself\u001b[39m\u001b[38;5;241m.\u001b[39membedding_batch_size \u001b[38;5;241m=\u001b[39m embedding_batch_size \u001b[38;5;129;01mor\u001b[39;00m \u001b[38;5;28mlen\u001b[39m(\n\u001b[1;32m    119\u001b[0m     model\u001b[38;5;241m.\u001b[39mspecifications\u001b[38;5;241m.\u001b[39mclasses\n\u001b[1;32m    120\u001b[0m )\n\u001b[1;32m    122\u001b[0m \u001b[38;5;28mself\u001b[39m\u001b[38;5;241m.\u001b[39m_audio \u001b[38;5;241m=\u001b[39m Audio(sample_rate\u001b[38;5;241m=\u001b[39m\u001b[38;5;28mself\u001b[39m\u001b[38;5;241m.\u001b[39m_embedding\u001b[38;5;241m.\u001b[39msample_rate, mono\u001b[38;5;241m=\u001b[39m\u001b[38;5;28;01mTrue\u001b[39;00m)\n",
      "File \u001b[0;32m~/.local/lib/python3.10/site-packages/pyannote/audio/pipelines/speaker_verification.py:275\u001b[0m, in \u001b[0;36mPretrainedSpeakerEmbedding\u001b[0;34m(embedding, device)\u001b[0m\n\u001b[1;32m    248\u001b[0m \u001b[38;5;124;03m\"\"\"Pretrained speaker embedding\u001b[39;00m\n\u001b[1;32m    249\u001b[0m \n\u001b[1;32m    250\u001b[0m \u001b[38;5;124;03mParameters\u001b[39;00m\n\u001b[0;32m   (...)\u001b[0m\n\u001b[1;32m    271\u001b[0m \u001b[38;5;124;03m>>> embeddings = get_embedding(waveforms, masks=masks)\u001b[39;00m\n\u001b[1;32m    272\u001b[0m \u001b[38;5;124;03m\"\"\"\u001b[39;00m\n\u001b[1;32m    274\u001b[0m \u001b[38;5;28;01mif\u001b[39;00m \u001b[38;5;28misinstance\u001b[39m(embedding, \u001b[38;5;28mstr\u001b[39m) \u001b[38;5;129;01mand\u001b[39;00m \u001b[38;5;124m\"\u001b[39m\u001b[38;5;124mspeechbrain\u001b[39m\u001b[38;5;124m\"\u001b[39m \u001b[38;5;129;01min\u001b[39;00m embedding:\n\u001b[0;32m--> 275\u001b[0m     \u001b[38;5;28;01mreturn\u001b[39;00m \u001b[43mSpeechBrainPretrainedSpeakerEmbedding\u001b[49m\u001b[43m(\u001b[49m\u001b[43membedding\u001b[49m\u001b[43m,\u001b[49m\u001b[43m \u001b[49m\u001b[43mdevice\u001b[49m\u001b[38;5;241;43m=\u001b[39;49m\u001b[43mdevice\u001b[49m\u001b[43m)\u001b[49m\n\u001b[1;32m    276\u001b[0m \u001b[38;5;28;01melse\u001b[39;00m:\n\u001b[1;32m    277\u001b[0m     \u001b[38;5;28;01mreturn\u001b[39;00m PyannoteAudioPretrainedSpeakerEmbedding(embedding, device\u001b[38;5;241m=\u001b[39mdevice)\n",
      "File \u001b[0;32m~/.local/lib/python3.10/site-packages/pyannote/audio/pipelines/speaker_verification.py:95\u001b[0m, in \u001b[0;36mSpeechBrainPretrainedSpeakerEmbedding.__init__\u001b[0;34m(self, embedding, device)\u001b[0m\n\u001b[1;32m     92\u001b[0m \u001b[38;5;28mself\u001b[39m\u001b[38;5;241m.\u001b[39membedding \u001b[38;5;241m=\u001b[39m embedding\n\u001b[1;32m     93\u001b[0m \u001b[38;5;28mself\u001b[39m\u001b[38;5;241m.\u001b[39mdevice \u001b[38;5;241m=\u001b[39m device\n\u001b[0;32m---> 95\u001b[0m \u001b[38;5;28mself\u001b[39m\u001b[38;5;241m.\u001b[39mclassifier_ \u001b[38;5;241m=\u001b[39m \u001b[43mEncoderClassifier\u001b[49m\u001b[38;5;241;43m.\u001b[39;49m\u001b[43mfrom_hparams\u001b[49m\u001b[43m(\u001b[49m\n\u001b[1;32m     96\u001b[0m \u001b[43m    \u001b[49m\u001b[43msource\u001b[49m\u001b[38;5;241;43m=\u001b[39;49m\u001b[38;5;28;43mself\u001b[39;49m\u001b[38;5;241;43m.\u001b[39;49m\u001b[43membedding\u001b[49m\u001b[43m,\u001b[49m\n\u001b[1;32m     97\u001b[0m \u001b[43m    \u001b[49m\u001b[43msavedir\u001b[49m\u001b[38;5;241;43m=\u001b[39;49m\u001b[38;5;124;43mf\u001b[39;49m\u001b[38;5;124;43m\"\u001b[39;49m\u001b[38;5;132;43;01m{\u001b[39;49;00m\u001b[43mCACHE_DIR\u001b[49m\u001b[38;5;132;43;01m}\u001b[39;49;00m\u001b[38;5;124;43m/speechbrain\u001b[39;49m\u001b[38;5;124;43m\"\u001b[39;49m\u001b[43m,\u001b[49m\n\u001b[1;32m     98\u001b[0m \u001b[43m    \u001b[49m\u001b[43mrun_opts\u001b[49m\u001b[38;5;241;43m=\u001b[39;49m\u001b[43m{\u001b[49m\u001b[38;5;124;43m\"\u001b[39;49m\u001b[38;5;124;43mdevice\u001b[39;49m\u001b[38;5;124;43m\"\u001b[39;49m\u001b[43m:\u001b[49m\u001b[43m \u001b[49m\u001b[38;5;28;43mself\u001b[39;49m\u001b[38;5;241;43m.\u001b[39;49m\u001b[43mdevice\u001b[49m\u001b[43m}\u001b[49m\u001b[43m,\u001b[49m\n\u001b[1;32m     99\u001b[0m \u001b[43m\u001b[49m\u001b[43m)\u001b[49m\n",
      "File \u001b[0;32m~/.local/lib/python3.10/site-packages/speechbrain/pretrained/interfaces.py:331\u001b[0m, in \u001b[0;36mPretrained.from_hparams\u001b[0;34m(cls, source, hparams_file, pymodule_file, overrides, savedir, use_auth_token, **kwargs)\u001b[0m\n\u001b[1;32m    329\u001b[0m     clsname \u001b[38;5;241m=\u001b[39m \u001b[38;5;28mcls\u001b[39m\u001b[38;5;241m.\u001b[39m\u001b[38;5;18m__name__\u001b[39m\n\u001b[1;32m    330\u001b[0m     savedir \u001b[38;5;241m=\u001b[39m \u001b[38;5;124mf\u001b[39m\u001b[38;5;124m\"\u001b[39m\u001b[38;5;124m./pretrained_models/\u001b[39m\u001b[38;5;132;01m{\u001b[39;00mclsname\u001b[38;5;132;01m}\u001b[39;00m\u001b[38;5;124m-\u001b[39m\u001b[38;5;132;01m{\u001b[39;00m\u001b[38;5;28mhash\u001b[39m(source)\u001b[38;5;132;01m}\u001b[39;00m\u001b[38;5;124m\"\u001b[39m\n\u001b[0;32m--> 331\u001b[0m hparams_local_path \u001b[38;5;241m=\u001b[39m \u001b[43mfetch\u001b[49m\u001b[43m(\u001b[49m\n\u001b[1;32m    332\u001b[0m \u001b[43m    \u001b[49m\u001b[43mhparams_file\u001b[49m\u001b[43m,\u001b[49m\u001b[43m \u001b[49m\u001b[43msource\u001b[49m\u001b[43m,\u001b[49m\u001b[43m \u001b[49m\u001b[43msavedir\u001b[49m\u001b[43m,\u001b[49m\u001b[43m \u001b[49m\u001b[43muse_auth_token\u001b[49m\n\u001b[1;32m    333\u001b[0m \u001b[43m\u001b[49m\u001b[43m)\u001b[49m\n\u001b[1;32m    334\u001b[0m \u001b[38;5;28;01mtry\u001b[39;00m:\n\u001b[1;32m    335\u001b[0m     pymodule_local_path \u001b[38;5;241m=\u001b[39m fetch(\n\u001b[1;32m    336\u001b[0m         pymodule_file, source, savedir, use_auth_token\n\u001b[1;32m    337\u001b[0m     )\n",
      "File \u001b[0;32m~/.local/lib/python3.10/site-packages/speechbrain/pretrained/fetching.py:116\u001b[0m, in \u001b[0;36mfetch\u001b[0;34m(filename, source, savedir, overwrite, save_filename, use_auth_token)\u001b[0m\n\u001b[1;32m    114\u001b[0m url \u001b[38;5;241m=\u001b[39m huggingface_hub\u001b[38;5;241m.\u001b[39mhf_hub_url(source, filename)\n\u001b[1;32m    115\u001b[0m \u001b[38;5;28;01mtry\u001b[39;00m:\n\u001b[0;32m--> 116\u001b[0m     fetched_file \u001b[38;5;241m=\u001b[39m \u001b[43mhuggingface_hub\u001b[49m\u001b[38;5;241;43m.\u001b[39;49m\u001b[43mcached_download\u001b[49m\u001b[43m(\u001b[49m\u001b[43murl\u001b[49m\u001b[43m,\u001b[49m\u001b[43m \u001b[49m\u001b[43muse_auth_token\u001b[49m\u001b[43m)\u001b[49m\n\u001b[1;32m    117\u001b[0m \u001b[38;5;28;01mexcept\u001b[39;00m HTTPError \u001b[38;5;28;01mas\u001b[39;00m e:\n\u001b[1;32m    118\u001b[0m     \u001b[38;5;28;01mif\u001b[39;00m e\u001b[38;5;241m.\u001b[39mresponse\u001b[38;5;241m.\u001b[39mstatus_code \u001b[38;5;241m==\u001b[39m \u001b[38;5;241m404\u001b[39m:\n",
      "\u001b[0;31mTypeError\u001b[0m: cached_download() takes 1 positional argument but 2 were given"
     ]
    }
   ],
   "source": [
    "from pyannote.audio import Pipeline\n",
    "pipeline = Pipeline.from_pretrained(\"pyannote/speaker-diarization\")"
   ]
  },
  {
   "cell_type": "markdown",
   "id": "c4196229",
   "metadata": {},
   "source": [
    "## Specify the file and desired time window"
   ]
  },
  {
   "cell_type": "code",
   "execution_count": 4,
   "id": "3460b493",
   "metadata": {},
   "outputs": [],
   "source": [
    "base = \"audio\" # \"xiglo\"\n",
    "audio = base + \".wav\" "
   ]
  },
  {
   "cell_type": "code",
   "execution_count": 5,
   "id": "82c5b71d",
   "metadata": {},
   "outputs": [],
   "source": [
    "GLOBAL_START = 480.\n",
    "GLOBAL_END = 540."
   ]
  },
  {
   "cell_type": "markdown",
   "id": "b60187b7",
   "metadata": {},
   "source": [
    "## Speech to text on specified time segment"
   ]
  },
  {
   "cell_type": "code",
   "execution_count": 7,
   "id": "3cfa2f39",
   "metadata": {},
   "outputs": [
    {
     "name": "stdout",
     "output_type": "stream",
     "text": [
      "audio.wav\r\n"
     ]
    }
   ],
   "source": [
    "r = sr.Recognizer()\n",
    "audio_sr = sr.AudioFile(audio)\n",
    "!ls *wav\n",
    "\n",
    "\n"
   ]
  },
  {
   "cell_type": "code",
   "execution_count": 8,
   "id": "143d2567",
   "metadata": {},
   "outputs": [
    {
     "name": "stdout",
     "output_type": "stream",
     "text": [
      "cheers yeah none of it comes back out to me it's a limited company and it just says the third one is there are four of us it's a mental health trust yeah and the money just goes into pay the employees salary I don't take anything from it no could I know no sure ok so that I don't want to take it and then got someone goes all that wasn't are no woman no no no what I'm going to do is I'll basically what you said he's going to ring up 84 UK and clarify that with them so I think it's important to so first one is it's open but there's nothing going in and it's not trading or non-trading ok the second one is cash in but it goes automatically so that's holiday lettings and it automatically just get it it's in the business it's a limited\n"
     ]
    }
   ],
   "source": [
    "with audio_sr as source:\n",
    "    audiodata = r.record(source, offset=GLOBAL_START, duration = GLOBAL_END-GLOBAL_START)\n",
    "try:\n",
    "    print(r.recognize_google(audiodata,language=\"en-GB\"))\n",
    "except Exception as e:\n",
    "    print(\"Error : \" + str(e))"
   ]
  },
  {
   "cell_type": "markdown",
   "id": "6dbafbb5",
   "metadata": {},
   "source": [
    "# DONT RUN THIS NEXT CELL!\n",
    "## this performs the diarisation on the 10 minute audio file, it takes a while to run"
   ]
  },
  {
   "cell_type": "code",
   "execution_count": 4,
   "id": "5d49eafb",
   "metadata": {},
   "outputs": [
    {
     "data": {
      "image/png": "[encoded data removed]",
      "text/plain": [
       "<pyannote.core.annotation.Annotation at 0x7f60e45a5df0>"
      ]
     },
     "execution_count": 4,
     "metadata": {},
     "output_type": "execute_result"
    }
   ],
   "source": [
    "dia = pipeline(audio)\n",
    "dia"
   ]
  },
  {
   "cell_type": "markdown",
   "id": "c37efc71",
   "metadata": {},
   "source": [
    "## Print out resulting time buckets of diarisation within desired time section\n",
    "## Visualise the output "
   ]
  },
  {
   "cell_type": "code",
   "execution_count": 134,
   "id": "5ecc56ac",
   "metadata": {},
   "outputs": [
    {
     "name": "stdout",
     "output_type": "stream",
     "text": [
      "start=480.3s stop=480.8s speaker_SPEAKER_01\n",
      "start=480.6s stop=480.8s speaker_SPEAKER_00\n",
      "start=481.1s stop=483.9s speaker_SPEAKER_01\n",
      "start=481.1s stop=481.5s speaker_SPEAKER_00\n",
      "start=484.3s stop=486.3s speaker_SPEAKER_01\n",
      "start=486.9s stop=487.3s speaker_SPEAKER_01\n",
      "start=487.5s stop=490.9s speaker_SPEAKER_01\n",
      "start=491.5s stop=492.4s speaker_SPEAKER_00\n",
      "start=491.8s stop=495.5s speaker_SPEAKER_01\n",
      "start=495.8s stop=496.7s speaker_SPEAKER_01\n",
      "start=498.5s stop=500.6s speaker_SPEAKER_00\n",
      "start=501.0s stop=501.7s speaker_SPEAKER_01\n",
      "start=502.6s stop=504.1s speaker_SPEAKER_00\n",
      "start=504.3s stop=505.2s speaker_SPEAKER_01\n",
      "start=504.4s stop=504.9s speaker_SPEAKER_00\n",
      "start=505.4s stop=506.4s speaker_SPEAKER_01\n",
      "start=506.7s stop=509.2s speaker_SPEAKER_01\n",
      "start=510.0s stop=510.5s speaker_SPEAKER_00\n",
      "start=510.1s stop=511.2s speaker_SPEAKER_01\n",
      "start=511.4s stop=518.6s speaker_SPEAKER_00\n",
      "start=519.0s stop=520.5s speaker_SPEAKER_00\n",
      "start=520.8s stop=523.1s speaker_SPEAKER_00\n",
      "start=523.7s stop=524.5s speaker_SPEAKER_00\n",
      "start=524.1s stop=525.5s speaker_SPEAKER_01\n",
      "start=525.6s stop=527.8s speaker_SPEAKER_00\n",
      "start=528.8s stop=536.6s speaker_SPEAKER_00\n",
      "start=535.0s stop=537.0s speaker_SPEAKER_01\n",
      "start=537.2s stop=538.2s speaker_SPEAKER_01\n",
      "start=538.5s stop=539.7s speaker_SPEAKER_01\n"
     ]
    }
   ],
   "source": [
    "for turn, _, speaker in dia.itertracks(yield_label=True):\n",
    "    if (turn.start > GLOBAL_START and turn.start < GLOBAL_END):\n",
    "        print(f\"start={turn.start:.1f}s stop={turn.end:.1f}s speaker_{speaker}\")"
   ]
  },
  {
   "cell_type": "code",
   "execution_count": 135,
   "id": "e844136e",
   "metadata": {},
   "outputs": [
    {
     "data": {
      "image/png": "[encoded data removed]",
      "text/plain": [
       "<pyannote.core.annotation.Annotation at 0x7f60e45a5df0>"
      ]
     },
     "execution_count": 135,
     "metadata": {},
     "output_type": "execute_result"
    }
   ],
   "source": [
    "# we visualize [0, 30] time range\n",
    "from pyannote.core import notebook, Segment\n",
    "notebook.crop = Segment(GLOBAL_START, GLOBAL_END)\n",
    "dia"
   ]
  },
  {
   "cell_type": "markdown",
   "id": "c132e651",
   "metadata": {},
   "source": [
    "## Speech recognition on the above diarisation time bins and output with labelled speakers"
   ]
  },
  {
   "cell_type": "code",
   "execution_count": 6,
   "id": "6f2bfe90",
   "metadata": {},
   "outputs": [
    {
     "ename": "ModuleNotFoundError",
     "evalue": "No module named 'speech_recognition'",
     "output_type": "error",
     "traceback": [
      "\u001b[0;31m---------------------------------------------------------------------------\u001b[0m",
      "\u001b[0;31mModuleNotFoundError\u001b[0m                       Traceback (most recent call last)",
      "Input \u001b[0;32mIn [6]\u001b[0m, in \u001b[0;36m<cell line: 1>\u001b[0;34m()\u001b[0m\n\u001b[0;32m----> 1\u001b[0m \u001b[38;5;28;01mimport\u001b[39;00m \u001b[38;5;21;01mspeech_recognition\u001b[39;00m \u001b[38;5;28;01mas\u001b[39;00m \u001b[38;5;21;01msr\u001b[39;00m\n\u001b[1;32m      3\u001b[0m r \u001b[38;5;241m=\u001b[39m sr\u001b[38;5;241m.\u001b[39mRecognizer()\n\u001b[1;32m      4\u001b[0m audio_sr \u001b[38;5;241m=\u001b[39m sr\u001b[38;5;241m.\u001b[39mAudioFile(audio)\n",
      "\u001b[0;31mModuleNotFoundError\u001b[0m: No module named 'speech_recognition'"
     ]
    }
   ],
   "source": [
    "import speech_recognition as sr\n",
    "\n",
    "r = sr.Recognizer()\n",
    "audio_sr = sr.AudioFile(audio)\n",
    "!ls *wav"
   ]
  },
  {
   "cell_type": "code",
   "execution_count": 153,
   "id": "791f84c8",
   "metadata": {},
   "outputs": [
    {
     "name": "stdout",
     "output_type": "stream",
     "text": [
      "SPEAKER_01 : ???\n",
      "\n",
      "SPEAKER_00 : ???\n",
      "\n",
      "SPEAKER_01 : none of it comes back out to me it's a\n",
      "\n",
      "SPEAKER_00 : ???\n",
      "\n",
      "SPEAKER_01 : and it just stays there\n",
      "\n",
      "SPEAKER_01 : ???\n",
      "\n",
      "SPEAKER_01 : there were four of us it's a mental\n",
      "\n",
      "SPEAKER_00 : ???\n",
      "\n",
      "SPEAKER_01 : yeah and the manor just goes in to pay the employees\n",
      "\n",
      "SPEAKER_01 : anything\n",
      "\n",
      "SPEAKER_00 : ???\n",
      "\n",
      "SPEAKER_01 : ???\n",
      "\n",
      "SPEAKER_00 : no no sure\n",
      "\n",
      "SPEAKER_01 : ???\n",
      "\n",
      "SPEAKER_00 : ???\n",
      "\n",
      "SPEAKER_01 : ???\n",
      "\n",
      "SPEAKER_01 : take it and then go and someone goes all that\n",
      "\n",
      "SPEAKER_00 : ???\n",
      "\n",
      "SPEAKER_01 : no\n",
      "\n",
      "SPEAKER_00 : no no no what I'm going to do is I'll basically what you said it's going to ring up 8 for UK and clarify that with them so I think it's in\n",
      "\n",
      "SPEAKER_00 : first one\n",
      "\n",
      "SPEAKER_00 : is it open but there's no\n",
      "\n",
      "SPEAKER_00 : ???\n",
      "\n",
      "SPEAKER_01 : and now it's not\n",
      "\n",
      "SPEAKER_00 : oh no not trading\n",
      "\n",
      "SPEAKER_00 : the second one is cash in but it goes automatically so that's holiday lettings and it automatically just get those\n",
      "\n",
      "SPEAKER_01 : actually just get\n",
      "\n",
      "SPEAKER_01 : ???\n",
      "\n",
      "SPEAKER_01 : ???\n",
      "\n"
     ]
    }
   ],
   "source": [
    "for turn, _, speaker in dia.itertracks(yield_label=True):\n",
    "    start_time = turn.start\n",
    "    end_time = turn.end\n",
    "    if (turn.start > GLOBAL_START and turn.start < GLOBAL_END):\n",
    "        with audio_sr as source:\n",
    "            audiodata = r.record(source, offset=start_time-0.1, duration = end_time-start_time+0.1)\n",
    "        try:\n",
    "            words = r.recognize_google(audiodata,language=\"en-GB\")\n",
    "            #print(f\"*------------------------START---------t={turn.start:.1f}s--------*\")\n",
    "            print(f\"{speaker} : {words}\")\n",
    "            print(\"\")\n",
    "            #print(f\"*-------------------------END----------t={turn.end:.1f}s--------*\")\n",
    "        except Exception as e:\n",
    "            print(f\"{speaker} : ???\")\n",
    "            print(\"\")\n",
    "        "
   ]
  },
  {
   "cell_type": "markdown",
   "id": "c0c72290",
   "metadata": {},
   "source": [
    "##  Speech to text on specified time segment"
   ]
  },
  {
   "cell_type": "code",
   "execution_count": 147,
   "id": "f336585d",
   "metadata": {},
   "outputs": [
    {
     "name": "stdout",
     "output_type": "stream",
     "text": [
      "cheers yeah none of it comes back out to me it's a limited company and it just says the third one is there are four of us it's a mental health trust yeah and the money just goes into pay the employees salary I don't take anything from it no could I know no sure ok so that I don't want to take it and then got someone goes all that wasn't are no woman no no no what I'm going to do is I'll basically what you said he's going to ring up 84 UK and clarify that with them so I think it's important to so first one is it's open but there's nothing going in and it's not trading or non-trading ok the second one is cash in but it goes automatically so that's holiday lettings and it automatically just get it it's in the business it's a limited\n"
     ]
    }
   ],
   "source": [
    "with audio_sr as source:\n",
    "    audiodata = r.record(source, offset=GLOBAL_START, duration = GLOBAL_END-GLOBAL_START)\n",
    "try:\n",
    "    print(r.recognize_google(audiodata,language=\"en-GB\"))\n",
    "except Exception as e:\n",
    "    print(\"Error : \" + str(e))"
   ]
  },
  {
   "cell_type": "markdown",
   "id": "e03f74b7",
   "metadata": {},
   "source": [
    "## My attempt at stitching audio pieces together"
   ]
  },
  {
   "cell_type": "markdown",
   "id": "1968b2f1",
   "metadata": {},
   "source": [
    "##### idea here is that sometimes continuous speach by one speaker is broken into multiple chunks here, one long chunk is better for speech to text"
   ]
  },
  {
   "cell_type": "code",
   "execution_count": 148,
   "id": "488f3583",
   "metadata": {},
   "outputs": [
    {
     "name": "stdout",
     "output_type": "stream",
     "text": [
      "start=477.4s stop=480.1s speaker_SPEAKER_01\n",
      "start=480.3s stop=480.8s speaker_SPEAKER_01\n",
      "start=480.6s stop=480.8s speaker_SPEAKER_00\n",
      "start=481.1s stop=483.9s speaker_SPEAKER_01\n",
      "start=481.1s stop=481.5s speaker_SPEAKER_00\n",
      "start=484.3s stop=486.3s speaker_SPEAKER_01\n",
      "start=486.9s stop=487.3s speaker_SPEAKER_01\n",
      "start=487.5s stop=490.9s speaker_SPEAKER_01\n",
      "start=491.5s stop=492.4s speaker_SPEAKER_00\n",
      "start=491.8s stop=495.5s speaker_SPEAKER_01\n",
      "start=495.8s stop=496.7s speaker_SPEAKER_01\n",
      "start=498.5s stop=500.6s speaker_SPEAKER_00\n",
      "start=501.0s stop=501.7s speaker_SPEAKER_01\n",
      "start=502.6s stop=504.1s speaker_SPEAKER_00\n",
      "start=504.3s stop=505.2s speaker_SPEAKER_01\n",
      "start=504.4s stop=504.9s speaker_SPEAKER_00\n",
      "start=505.4s stop=506.4s speaker_SPEAKER_01\n",
      "start=506.7s stop=509.2s speaker_SPEAKER_01\n",
      "start=510.0s stop=510.5s speaker_SPEAKER_00\n",
      "start=510.1s stop=511.2s speaker_SPEAKER_01\n",
      "start=511.4s stop=518.6s speaker_SPEAKER_00\n",
      "start=519.0s stop=520.5s speaker_SPEAKER_00\n",
      "start=520.8s stop=523.1s speaker_SPEAKER_00\n",
      "start=523.7s stop=524.5s speaker_SPEAKER_00\n",
      "start=524.1s stop=525.5s speaker_SPEAKER_01\n",
      "start=525.6s stop=527.8s speaker_SPEAKER_00\n",
      "start=528.8s stop=536.6s speaker_SPEAKER_00\n",
      "start=535.0s stop=537.0s speaker_SPEAKER_01\n",
      "start=537.2s stop=538.2s speaker_SPEAKER_01\n",
      "start=538.5s stop=539.7s speaker_SPEAKER_01\n"
     ]
    }
   ],
   "source": [
    "speech_fragments = []\n",
    "for turn, track, speaker in dia.itertracks(yield_label=True):\n",
    "    if (turn.end > GLOBAL_START and turn.start < GLOBAL_END):\n",
    "        speech_fragments += [[speaker,turn.start,turn.end,\"unique\"]]\n",
    "        print(f\"start={turn.start:.1f}s stop={turn.end:.1f}s speaker_{speaker}\")\n",
    "#for i in range(len(speech_fragments)): print(speech_fragments[i])"
   ]
  },
  {
   "cell_type": "code",
   "execution_count": 149,
   "id": "68442360",
   "metadata": {},
   "outputs": [
    {
     "name": "stdout",
     "output_type": "stream",
     "text": [
      "['SPEAKER_01', 477.43218750000005, 480.8240625, 'unique']\n",
      "['SPEAKER_01', 477.43218750000005, 480.8240625, 'repeat']\n",
      "['SPEAKER_00', 480.62156250000004, 480.80718750000005, 'unique']\n",
      "['SPEAKER_01', 481.07718750000004, 483.9121875, 'unique']\n",
      "['SPEAKER_00', 481.14468750000003, 481.49906250000004, 'unique']\n",
      "['SPEAKER_01', 484.3003125, 490.89843750000006, 'unique']\n",
      "['SPEAKER_01', 484.3003125, 490.89843750000006, 'repeat']\n",
      "['SPEAKER_01', 486.8990625, 490.89843750000006, 'repeat']\n",
      "['SPEAKER_00', 491.5396875, 492.36656250000004, 'unique']\n",
      "['SPEAKER_01', 491.8265625, 496.7371875, 'unique']\n",
      "['SPEAKER_01', 491.8265625, 496.7371875, 'repeat']\n",
      "['SPEAKER_00', 498.5090625, 500.63531250000005, 'unique']\n",
      "['SPEAKER_01', 500.9559375, 501.6984375, 'unique']\n",
      "['SPEAKER_00', 502.64343750000006, 504.0946875, 'unique']\n",
      "['SPEAKER_01', 504.33093750000006, 505.15781250000003, 'unique']\n",
      "['SPEAKER_00', 504.38156250000003, 504.9046875, 'unique']\n",
      "['SPEAKER_01', 505.3603125, 509.17406250000005, 'unique']\n",
      "['SPEAKER_01', 505.3603125, 509.17406250000005, 'repeat']\n",
      "['SPEAKER_00', 509.95031250000005, 510.5240625, 'unique']\n",
      "['SPEAKER_01', 510.08531250000004, 511.18218750000005, 'unique']\n",
      "['SPEAKER_00', 511.4353125, 524.5134375, 'unique']\n",
      "['SPEAKER_00', 511.4353125, 524.5134375, 'repeat']\n",
      "['SPEAKER_00', 519.0290625, 524.5134375, 'repeat']\n",
      "['SPEAKER_00', 520.7671875000001, 524.5134375, 'repeat']\n",
      "['SPEAKER_01', 524.0578125000001, 525.5428125000001, 'unique']\n",
      "['SPEAKER_00', 525.6440625, 536.5790625000001, 'unique']\n",
      "['SPEAKER_00', 525.6440625, 536.5790625000001, 'repeat']\n",
      "['SPEAKER_01', 534.9759375, 539.7009375, 'unique']\n",
      "['SPEAKER_01', 534.9759375, 539.7009375, 'repeat']\n",
      "['SPEAKER_01', 537.1528125, 539.7009375, 'repeat']\n"
     ]
    }
   ],
   "source": [
    "for i in reversed(range(len(speech_fragments)-1)): # the reverse is important as we want to pull the latest finish time to the first start time\n",
    "    frag = speech_fragments[i]\n",
    "    nextfrag = speech_fragments[i+1]\n",
    "    if frag[0]==nextfrag[0]:\n",
    "        nextfrag[1] = frag[1]\n",
    "        frag[2]=nextfrag[2]\n",
    "        nextfrag[3] = \"repeat\"\n",
    "    \n",
    "for frag in speech_fragments: print(frag)\n",
    "        \n"
   ]
  },
  {
   "cell_type": "code",
   "execution_count": 152,
   "id": "ba396e3f",
   "metadata": {},
   "outputs": [
    {
     "name": "stdout",
     "output_type": "stream",
     "text": [
      "start=477.4s stop=480.8s speaker_SPEAKER_01\n",
      "start=480.6s stop=480.8s speaker_SPEAKER_00\n",
      "start=481.1s stop=483.9s speaker_SPEAKER_01\n",
      "start=481.1s stop=481.5s speaker_SPEAKER_00\n",
      "start=484.3s stop=490.9s speaker_SPEAKER_01\n",
      "start=491.5s stop=492.4s speaker_SPEAKER_00\n",
      "start=491.8s stop=496.7s speaker_SPEAKER_01\n",
      "start=498.5s stop=500.6s speaker_SPEAKER_00\n",
      "start=501.0s stop=501.7s speaker_SPEAKER_01\n",
      "start=502.6s stop=504.1s speaker_SPEAKER_00\n",
      "start=504.3s stop=505.2s speaker_SPEAKER_01\n",
      "start=504.4s stop=504.9s speaker_SPEAKER_00\n",
      "start=505.4s stop=509.2s speaker_SPEAKER_01\n",
      "start=510.0s stop=510.5s speaker_SPEAKER_00\n",
      "start=510.1s stop=511.2s speaker_SPEAKER_01\n",
      "start=511.4s stop=524.5s speaker_SPEAKER_00\n",
      "start=524.1s stop=525.5s speaker_SPEAKER_01\n",
      "start=525.6s stop=536.6s speaker_SPEAKER_00\n",
      "start=535.0s stop=539.7s speaker_SPEAKER_01\n"
     ]
    }
   ],
   "source": [
    "fixed_speech = []      \n",
    "for frag in speech_fragments:\n",
    "    if (frag[3]==\"unique\"):\n",
    "        fixed_speech += [frag]\n",
    "        \n",
    "for frag in fixed_speech: print(f\"start={frag[1]:.1f}s stop={frag[2]:.1f}s speaker_{frag[0]}\")\n",
    "        "
   ]
  },
  {
   "cell_type": "code",
   "execution_count": 151,
   "id": "5e9c409c",
   "metadata": {},
   "outputs": [
    {
     "name": "stdout",
     "output_type": "stream",
     "text": [
      "*------------------------START---------t=477.4s--------*\n",
      "SPEAKER_01 : that takes cash in as people stay in the lodge\n",
      "*-------------------------END----------t=480.8s--------*\n",
      "*------------------------START---------t=480.6s--------*\n",
      "??? \n",
      "*-------------------------END----------t=480.8s--------*\n",
      "*------------------------START---------t=481.1s--------*\n",
      "SPEAKER_01 : none of it comes back out to me it's a\n",
      "*-------------------------END----------t=483.9s--------*\n",
      "*------------------------START---------t=481.1s--------*\n",
      "??? \n",
      "*-------------------------END----------t=481.5s--------*\n",
      "*------------------------START---------t=484.3s--------*\n",
      "SPEAKER_01 : and it just says the third one is there for four of us it's a mental\n",
      "*-------------------------END----------t=490.9s--------*\n",
      "*------------------------START---------t=491.5s--------*\n",
      "??? \n",
      "*-------------------------END----------t=492.4s--------*\n",
      "*------------------------START---------t=491.8s--------*\n",
      "SPEAKER_01 : yeah and the manor just goes in to pay the employees salary I don't take\n",
      "*-------------------------END----------t=496.7s--------*\n",
      "*------------------------START---------t=498.5s--------*\n",
      "??? \n",
      "*-------------------------END----------t=500.6s--------*\n",
      "*------------------------START---------t=501.0s--------*\n",
      "??? \n",
      "*-------------------------END----------t=501.7s--------*\n",
      "*------------------------START---------t=502.6s--------*\n",
      "SPEAKER_00 : no no sure\n",
      "*-------------------------END----------t=504.1s--------*\n",
      "*------------------------START---------t=504.3s--------*\n",
      "??? \n",
      "*-------------------------END----------t=505.2s--------*\n",
      "*------------------------START---------t=504.4s--------*\n",
      "??? \n",
      "*-------------------------END----------t=504.9s--------*\n",
      "*------------------------START---------t=505.4s--------*\n",
      "SPEAKER_01 : is that I don't want to take it and then go and someone goes\n",
      "*-------------------------END----------t=509.2s--------*\n",
      "*------------------------START---------t=510.0s--------*\n",
      "??? \n",
      "*-------------------------END----------t=510.5s--------*\n",
      "*------------------------START---------t=510.1s--------*\n",
      "SPEAKER_01 : no\n",
      "*-------------------------END----------t=511.2s--------*\n",
      "*------------------------START---------t=511.4s--------*\n",
      "SPEAKER_00 : no no no what I'm going to do is I'll basically what you said it's going to ring up 8 for UK and clarify that with them so I think it's important to so first one is it open but there's nothing going in\n",
      "*-------------------------END----------t=524.5s--------*\n",
      "*------------------------START---------t=524.1s--------*\n",
      "SPEAKER_01 : and now it's not\n",
      "*-------------------------END----------t=525.5s--------*\n",
      "*------------------------START---------t=525.6s--------*\n",
      "SPEAKER_00 : oh well not trading ok the second one is cash in but it goes automatically so that's holiday lettings and it automatically just get those\n",
      "*-------------------------END----------t=536.6s--------*\n",
      "*------------------------START---------t=535.0s--------*\n",
      "SPEAKER_01 : actually just get so it's in the business it's\n",
      "*-------------------------END----------t=539.7s--------*\n"
     ]
    }
   ],
   "source": [
    "for frag in fixed_speech:\n",
    "    with audio_sr as source:\n",
    "            audiodata = r.record(source, offset=frag[1]-0.1, duration = frag[2]-frag[1]+0.1)\n",
    "    try:\n",
    "        words = r.recognize_google(audiodata,language=\"en-GB\")\n",
    "        print(f\"*------------------------START---------t={frag[1]:.1f}s--------*\")\n",
    "        print(f\"{frag[0]} : {words}\")\n",
    "        print(f\"*-------------------------END----------t={frag[2]:.1f}s--------*\")\n",
    "    except Exception as e:\n",
    "        print(f\"*------------------------START---------t={frag[1]:.1f}s--------*\")\n",
    "        print(f\"??? \")\n",
    "        print(f\"*-------------------------END----------t={frag[2]:.1f}s--------*\")\n",
    "    "
   ]
  },
  {
   "cell_type": "markdown",
   "id": "95cd7bc7",
   "metadata": {},
   "source": [
    "## hand transcribed"
   ]
  },
  {
   "cell_type": "markdown",
   "id": "ed525fd6",
   "metadata": {},
   "source": [
    "SPEAKER_00 : yeah \n",
    "\n",
    "SPEAKER_01 : but none of it comes back out to me it's a limited company and it just says there the third one is umm there are four four of us it's a mental health trust \n",
    "\n",
    "SPEAKER_00 : yeah \n",
    "\n",
    "SPEAKER_01 : and the money just goes in to pay the employees salary I don't take anything from it \n",
    "\n",
    "SPEAKER_00 : errrr\n",
    "\n",
    "SPEAKER_01 : and nor could I \n",
    "\n",
    "SPEAKER_00 : no no sure erm ok \n",
    "\n",
    "SPEAKER_01 : it's that I don't want to take it and then gum(?) someone goes ah well that wasn't our\n",
    "\n",
    "SPEAKER_00 : no \n",
    "\n",
    "??? \n",
    "\n",
    "SPEAKER_00 : no no no what I'm going to do is I'll based on what you said is i'm going to ring up april(?) UK and clarify that with them cos I think it's important to so\n",
    "\n",
    "SPEAKER_01 : yea\n",
    "\n",
    "SPEAKER_00 : first one is it's open but there's nothing going in and \n",
    "\n",
    "SPEAKER_01 : or out it's not trading \n",
    "\n",
    "SPEAKER_00 : or out not trading ok the second one is cash in but it goes automatically so that's holiday lettings and it automatically just \n",
    "\n",
    "SPEAKER_01 : well yea it sits in the business it sits in the business it's a limited company"
   ]
  },
  {
   "cell_type": "markdown",
   "id": "37827b21",
   "metadata": {},
   "source": [
    "## plain speech to text"
   ]
  },
  {
   "cell_type": "markdown",
   "id": "d382b9df",
   "metadata": {},
   "source": [
    "cheers yeah none of it comes back out to me it's a limited company and it just says the third one is there are four of us it's a mental health trust yeah and the money just goes into pay the employees salary I don't take anything from it no could I know no sure ok so that I don't want to take it and then got someone goes all that wasn't are no woman no no no what I'm going to do is I'll basically what you said he's going to ring up 84 UK and clarify that with them so I think it's important to so first one is it's open but there's nothing going in and it's not trading or non-trading ok the second one is cash in but it goes automatically so that's holiday lettings and it automatically just get it it's in the business it's a limited"
   ]
  },
  {
   "cell_type": "markdown",
   "id": "5691f176",
   "metadata": {},
   "source": [
    "## automatic transcript"
   ]
  },
  {
   "cell_type": "code",
   "execution_count": 128,
   "id": "311b8919",
   "metadata": {},
   "outputs": [
    {
     "name": "stdout",
     "output_type": "stream",
     "text": [
      "SPEAKER_01 : that takes cash in as people stay in the lodge\n",
      "\n",
      "SPEAKER_00 : ??? \n",
      "\n",
      "SPEAKER_01 : none of it comes back out to me it's a\n",
      "\n",
      "SPEAKER_00 : ??? \n",
      "\n",
      "SPEAKER_01 : and it just says the third one is there for four of us it's a mental\n",
      "\n",
      "SPEAKER_00 : ??? \n",
      "\n",
      "SPEAKER_01 : yeah and the manor just goes in to pay the employees salary I don't take\n",
      "\n",
      "SPEAKER_00 : ??? \n",
      "\n",
      "SPEAKER_01 : ??? \n",
      "\n",
      "SPEAKER_00 : no no sure\n",
      "\n",
      "SPEAKER_01 : ??? \n",
      "\n",
      "SPEAKER_00 : ??? \n",
      "\n",
      "SPEAKER_01 : is that I don't want to take it and then go and someone goes\n",
      "\n",
      "SPEAKER_00 : ??? \n",
      "\n",
      "SPEAKER_01 : no\n",
      "\n",
      "SPEAKER_00 : no no no what I'm going to do is I'll basically what you said it's going to ring up 8 for UK and clarify that with them so I think it's important to so first one is it open but there's nothing going in\n",
      "\n",
      "SPEAKER_01 : and now it's not\n",
      "\n",
      "SPEAKER_00 : oh well not trading ok the second one is cash in but it goes automatically so that's holiday lettings and it automatically just get those\n",
      "\n",
      "SPEAKER_01 : actually just get so it's in the business it's\n",
      "\n"
     ]
    }
   ],
   "source": [
    "for frag in fixed_speech:\n",
    "    with audio_sr as source:\n",
    "            audiodata = r.record(source, offset=frag[1]-0.1, duration = frag[2]-frag[1]+0.1)\n",
    "    try:\n",
    "        words = r.recognize_google(audiodata,language=\"en-GB\")\n",
    "        print(f\"{frag[0]} : {words}\")\n",
    "        print(\"\")\n",
    "    except Exception as e:\n",
    "        print(f\"{frag[0]} : ??? \")\n",
    "        print(\"\")"
   ]
  },
  {
   "cell_type": "markdown",
   "id": "3c572f87",
   "metadata": {},
   "source": [
    "# To do"
   ]
  },
  {
   "cell_type": "markdown",
   "id": "d1a3b870",
   "metadata": {},
   "source": [
    "#### -> try ignoring bins of too small width or merge them with bigger bins\n",
    "#### -> try messing with yield_label=True in the dia.intertracks\n",
    "#### -> look into the _ argument too?\n",
    "#### -> try extending bins to regions of no speech, maybe improves accuracy?"
   ]
  },
  {
   "cell_type": "code",
   "execution_count": null,
   "id": "33b5592c",
   "metadata": {},
   "outputs": [],
   "source": []
  },
  {
   "cell_type": "code",
   "execution_count": null,
   "id": "e8946305",
   "metadata": {},
   "outputs": [],
   "source": []
  },
  {
   "cell_type": "code",
   "execution_count": null,
   "id": "ff842db4",
   "metadata": {},
   "outputs": [],
   "source": []
  }
 ],
 "metadata": {
  "kernelspec": {
   "display_name": "Python 3 (ipykernel)",
   "language": "python",
   "name": "python3"
  },
  "language_info": {
   "codemirror_mode": {
    "name": "ipython",
    "version": 3
   },
   "file_extension": ".py",
   "mimetype": "text/x-python",
   "name": "python",
   "nbconvert_exporter": "python",
   "pygments_lexer": "ipython3",
   "version": "3.8.13"
  }
 },
 "nbformat": 4,
 "nbformat_minor": 5
}
