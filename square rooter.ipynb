{
 "cells": [
  {
   "cell_type": "code",
   "execution_count": 52,
   "id": "e5109d34",
   "metadata": {
    "scrolled": false
   },
   "outputs": [
    {
     "name": "stdout",
     "output_type": "stream",
     "text": [
      "1.449137674618944\n"
     ]
    }
   ],
   "source": [
    "import numpy as np\n",
    "from scipy.special import factorial\n",
    "target = 2.1\n",
    "print(np.sqrt(target))"
   ]
  },
  {
   "cell_type": "code",
   "execution_count": 56,
   "id": "b5911a95",
   "metadata": {
    "scrolled": false
   },
   "outputs": [],
   "source": [
    "def root(arg):\n",
    "    root = 1.\n",
    "    order = 10\n",
    "    power = 0.5\n",
    "    coeff = power\n",
    "    x = arg - 1.\n",
    "    for i in range(1,order):\n",
    "        #print(\"iter : \" , i, \", diffsqr :\" , round(0.5*np.log10((root-np.sqrt(target))**2) ))\n",
    "        root += coeff*(x**i)/factorial(i)\n",
    "        coeff *= power-i\n",
    "    return (root)\n",
    "    \n"
   ]
  },
  {
   "cell_type": "code",
   "execution_count": 61,
   "id": "208a87bd",
   "metadata": {},
   "outputs": [
    {
     "name": "stdout",
     "output_type": "stream",
     "text": [
      "a :  1.4 b :  1.4285714285714286\n",
      "root2 :  1.414213562373096\n"
     ]
    }
   ],
   "source": [
    "a = 1.4\n",
    "b = 2/1.4\n",
    "print(\"a : \", a, \"b : \", b)\n",
    "\n",
    "root2 = root(a)*root(b)\n",
    "print(\"root2 : \", root2)"
   ]
  },
  {
   "cell_type": "code",
   "execution_count": null,
   "id": "42c494ce",
   "metadata": {},
   "outputs": [],
   "source": []
  }
 ],
 "metadata": {
  "kernelspec": {
   "display_name": "Python 3 (ipykernel)",
   "language": "python",
   "name": "python3"
  },
  "language_info": {
   "codemirror_mode": {
    "name": "ipython",
    "version": 3
   },
   "file_extension": ".py",
   "mimetype": "text/x-python",
   "name": "python",
   "nbconvert_exporter": "python",
   "pygments_lexer": "ipython3",
   "version": "3.8.10"
  }
 },
 "nbformat": 4,
 "nbformat_minor": 5
}
