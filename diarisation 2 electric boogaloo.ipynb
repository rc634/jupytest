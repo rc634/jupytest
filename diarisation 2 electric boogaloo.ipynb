{
 "cells": [
  {
   "cell_type": "code",
   "execution_count": 20,
   "id": "dbb7a7cd",
   "metadata": {},
   "outputs": [],
   "source": [
    "# preparing notebook for visualization purposes\n",
    "# (only show outputs between t=0s and t=30s)\n",
    "import torch\n",
    "#from pyannote.core import notebook, Segment\n",
    "#notebook.crop = Segment(0, 30)"
   ]
  },
  {
   "cell_type": "code",
   "execution_count": 21,
   "id": "a33cbe01",
   "metadata": {},
   "outputs": [],
   "source": [
    "filename = \"xiglo\"#\"cobal\"\n",
    "root = \"data/\"\n",
    "truth = root+filename+\".rttm\"\n",
    "audio = root+filename+\".wav\""
   ]
  },
  {
   "cell_type": "code",
   "execution_count": 22,
   "id": "ced3f39d",
   "metadata": {},
   "outputs": [
    {
     "ename": "KeyError",
     "evalue": "'xiglo'",
     "output_type": "error",
     "traceback": [
      "\u001b[0;31m---------------------------------------------------------------------------\u001b[0m",
      "\u001b[0;31mKeyError\u001b[0m                                  Traceback (most recent call last)",
      "Input \u001b[0;32mIn [22]\u001b[0m, in \u001b[0;36m<cell line: 2>\u001b[0;34m()\u001b[0m\n\u001b[1;32m      1\u001b[0m \u001b[38;5;28;01mfrom\u001b[39;00m \u001b[38;5;21;01mpyannote\u001b[39;00m\u001b[38;5;21;01m.\u001b[39;00m\u001b[38;5;21;01mdatabase\u001b[39;00m\u001b[38;5;21;01m.\u001b[39;00m\u001b[38;5;21;01mutil\u001b[39;00m \u001b[38;5;28;01mimport\u001b[39;00m load_rttm\n\u001b[0;32m----> 2\u001b[0m reference \u001b[38;5;241m=\u001b[39m \u001b[43mload_rttm\u001b[49m\u001b[43m(\u001b[49m\u001b[43mtruth\u001b[49m\u001b[43m)\u001b[49m\u001b[43m[\u001b[49m\u001b[43mfilename\u001b[49m\u001b[43m]\u001b[49m\n\u001b[1;32m      3\u001b[0m reference\n",
      "\u001b[0;31mKeyError\u001b[0m: 'xiglo'"
     ]
    }
   ],
   "source": [
    "from pyannote.database.util import load_rttm\n",
    "reference = load_rttm(truth)[filename]\n",
    "reference"
   ]
  },
  {
   "cell_type": "code",
   "execution_count": 23,
   "id": "5849b912",
   "metadata": {},
   "outputs": [
    {
     "ename": "ImportError",
     "evalue": "cannot import name 'Pipeline' from 'pyannote.audio' (/home/robin/.local/lib/python3.8/site-packages/pyannote/audio/__init__.py)",
     "output_type": "error",
     "traceback": [
      "\u001b[0;31m---------------------------------------------------------------------------\u001b[0m",
      "\u001b[0;31mImportError\u001b[0m                               Traceback (most recent call last)",
      "Input \u001b[0;32mIn [23]\u001b[0m, in \u001b[0;36m<cell line: 1>\u001b[0;34m()\u001b[0m\n\u001b[0;32m----> 1\u001b[0m \u001b[38;5;28;01mfrom\u001b[39;00m \u001b[38;5;21;01mpyannote\u001b[39;00m\u001b[38;5;21;01m.\u001b[39;00m\u001b[38;5;21;01maudio\u001b[39;00m \u001b[38;5;28;01mimport\u001b[39;00m Pipeline\n\u001b[1;32m      2\u001b[0m pipeline \u001b[38;5;241m=\u001b[39m Pipeline\u001b[38;5;241m.\u001b[39mfrom_pretrained(\u001b[38;5;124m\"\u001b[39m\u001b[38;5;124mpyannote/speaker-diarization\u001b[39m\u001b[38;5;124m\"\u001b[39m)\n",
      "\u001b[0;31mImportError\u001b[0m: cannot import name 'Pipeline' from 'pyannote.audio' (/home/robin/.local/lib/python3.8/site-packages/pyannote/audio/__init__.py)"
     ]
    }
   ],
   "source": [
    "from pyannote.audio import Pipeline\n",
    "pipeline = Pipeline.from_pretrained(\"pyannote/speaker-diarization\")"
   ]
  },
  {
   "cell_type": "code",
   "execution_count": 24,
   "id": "a7d293bc",
   "metadata": {},
   "outputs": [
    {
     "name": "stderr",
     "output_type": "stream",
     "text": [
      "Using cache found in /home/robin/.cache/torch/hub/pyannote_pyannote-audio_master\n",
      "Using cache found in /home/robin/.cache/torch/hub/pyannote_pyannote-audio_master\n",
      "Using cache found in /home/robin/.cache/torch/hub/pyannote_pyannote-audio_master\n",
      "Using cache found in /home/robin/.cache/torch/hub/pyannote_pyannote-audio_master\n",
      "/home/robin/.local/lib/python3.8/site-packages/pyannote/audio/embedding/approaches/arcface_loss.py:170: FutureWarning: The 's' parameter is deprecated in favor of 'scale', and will be removed in a future release\n",
      "  warnings.warn(msg, FutureWarning)\n",
      "/home/robin/.local/lib/python3.8/site-packages/pyannote/audio/features/pretrained.py:156: UserWarning: Model was trained with 4s chunks and is applied on 2s chunks. This might lead to sub-optimal results.\n",
      "  warnings.warn(msg)\n",
      "Using cache found in /home/robin/.cache/torch/hub/pyannote_pyannote-audio_master\n"
     ]
    },
    {
     "data": {
      "image/png": "[encoded data removed]",
      "text/plain": [
       "<pyannote.core.annotation.Annotation at 0x7faa472db4c0>"
      ]
     },
     "execution_count": 24,
     "metadata": {},
     "output_type": "execute_result"
    }
   ],
   "source": [
    "# v1.1\n",
    "import torch\n",
    "pipeline = torch.hub.load(\"pyannote/pyannote-audio\", \"dia\")\n",
    "diarization = pipeline({\"audio\":root+filename+\".wav\"})\n",
    "diarization\n",
    "\n",
    "# v2.0\n",
    "#from pyannote.audio import Pipeline\n",
    "#pipeline = Pipeline.from_pretrained(\"pyannote/speaker-diarization\")\n",
    "#diarization = pipeline(root+filename+\".wav\")\n",
    "#diarization\n"
   ]
  },
  {
   "cell_type": "code",
   "execution_count": 25,
   "id": "9c584116",
   "metadata": {},
   "outputs": [],
   "source": [
    "from pyannote.audio import pipeline"
   ]
  },
  {
   "cell_type": "code",
   "execution_count": 26,
   "id": "9e84672c",
   "metadata": {},
   "outputs": [
    {
     "ename": "AttributeError",
     "evalue": "module 'pyannote.audio.pipeline' has no attribute 'from_pretrained'",
     "output_type": "error",
     "traceback": [
      "\u001b[0;31m---------------------------------------------------------------------------\u001b[0m",
      "\u001b[0;31mAttributeError\u001b[0m                            Traceback (most recent call last)",
      "Input \u001b[0;32mIn [26]\u001b[0m, in \u001b[0;36m<cell line: 1>\u001b[0;34m()\u001b[0m\n\u001b[0;32m----> 1\u001b[0m testtt \u001b[38;5;241m=\u001b[39m \u001b[43mpipeline\u001b[49m\u001b[38;5;241;43m.\u001b[39;49m\u001b[43mfrom_pretrained\u001b[49m(\u001b[38;5;124m\"\u001b[39m\u001b[38;5;124mpyannote/speaker-diarization\u001b[39m\u001b[38;5;124m\"\u001b[39m)\n",
      "\u001b[0;31mAttributeError\u001b[0m: module 'pyannote.audio.pipeline' has no attribute 'from_pretrained'"
     ]
    }
   ],
   "source": [
    "testtt = pipeline.from_pretrained(\"pyannote/speaker-diarization\")"
   ]
  },
  {
   "cell_type": "code",
   "execution_count": null,
   "id": "b438537c",
   "metadata": {},
   "outputs": [],
   "source": []
  },
  {
   "cell_type": "code",
   "execution_count": null,
   "id": "eb735d99",
   "metadata": {},
   "outputs": [],
   "source": []
  }
 ],
 "metadata": {
  "kernelspec": {
   "display_name": "Python 3 (ipykernel)",
   "language": "python",
   "name": "python3"
  },
  "language_info": {
   "codemirror_mode": {
    "name": "ipython",
    "version": 3
   },
   "file_extension": ".py",
   "mimetype": "text/x-python",
   "name": "python",
   "nbconvert_exporter": "python",
   "pygments_lexer": "ipython3",
   "version": "3.8.10"
  }
 },
 "nbformat": 4,
 "nbformat_minor": 5
}
