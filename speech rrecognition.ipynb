{
 "cells": [
  {
   "cell_type": "markdown",
   "id": "e2fb91e7",
   "metadata": {},
   "source": [
    "## speech recognition"
   ]
  },
  {
   "cell_type": "code",
   "execution_count": 2,
   "id": "ebffb9fd",
   "metadata": {},
   "outputs": [],
   "source": [
    "import speech_recognition as sr\n",
    "#import pyttsx3"
   ]
  },
  {
   "cell_type": "code",
   "execution_count": 3,
   "id": "51897182",
   "metadata": {},
   "outputs": [
    {
     "name": "stdout",
     "output_type": "stream",
     "text": [
      "frog_speek.wav\t   paper_abstract.wav  qbf_64f.wav     qbf_rp.mp3\r\n",
      "german_speeky.wav  qbf_32f.wav\t       qbf.mp3\t       qbf_rp.wav\r\n",
      "italian.wav\t   qbf_32i.wav\t       qbf_rp_32i.wav\r\n"
     ]
    }
   ],
   "source": [
    "#r = sr.Recognizer()\n",
    "#audio = sr.AudioFile(\"../python-speech-recognition/audio_files/harvard.wav\")\n",
    "#type(audio)\n",
    "#!ls ../python-speech-recognition/audio_files\n",
    "\n",
    "r = sr.Recognizer()\n",
    "audio = sr.AudioFile(\"recordings/paper_abstract.wav\")\n",
    "type(audio)\n",
    "!ls recordings"
   ]
  },
  {
   "cell_type": "code",
   "execution_count": 4,
   "id": "387f14c3",
   "metadata": {},
   "outputs": [
    {
     "data": {
      "text/plain": [
       "speech_recognition.AudioData"
      ]
     },
     "execution_count": 4,
     "metadata": {},
     "output_type": "execute_result"
    }
   ],
   "source": [
    "# Create audio data\n",
    "with audio as source:\n",
    "    audiodata = r.record(source)\n",
    "type(audiodata)"
   ]
  },
  {
   "cell_type": "markdown",
   "id": "0d785b7e",
   "metadata": {},
   "source": [
    "## langueages such as en-GB, en-US, en-AU, fr-FR, de-DE, it-IT ...\n",
    "## list here https://cloud.google.com/speech-to-text/docs/languages"
   ]
  },
  {
   "cell_type": "code",
   "execution_count": 10,
   "id": "a0770abf",
   "metadata": {},
   "outputs": [
    {
     "name": "stdout",
     "output_type": "stream",
     "text": [
      "conservation laws for general matter have applications numerical relativity simulations in this work we extend previously derived expressions to include angular momentum of matter and nothing's associated gauge symmetries expressions for the Nerf the charge influx of complex scalar fields and complex Fields are found using this formalism the conserved quantities associated with the angular momentum I found in numerically applied to the collision of Bodom stars in 3D with non-zero impact parameter convergence analysis shows the conversion conservation system to be obeyed in the Continuum limit for a space-time with known Killingbeck\n"
     ]
    }
   ],
   "source": [
    "try:\n",
    "    print(r.recognize_google(audiodata,language=\"en-NG\"))\n",
    "except Exception as e:\n",
    "    print(\"Error : \" + str(e))"
   ]
  },
  {
   "cell_type": "code",
   "execution_count": 8,
   "id": "9f8b9f1b",
   "metadata": {},
   "outputs": [
    {
     "name": "stdout",
     "output_type": "stream",
     "text": [
      "conservation laws for general matter have applications numerical relativity simulations in this work we extend previously derived expressions to include angular momentum of matter and nothing's associated gauge symmetries expressions for the Nerf the charge influx of complex scalar fields and complex Fields are found using this formalism the conserved quantities associated with the angular momentum I found in numerically applied to the collision of Bodom stars in 3D with non-zero impact parameter convergence analysis shows the conversion conservation system to be obeyed in the Continuum limit for a space-time with known Killingbeck\n"
     ]
    }
   ],
   "source": [
    "try:\n",
    "    print(r.recognize_google(audiodata,language=\"en-US\"))\n",
    "except Exception as e:\n",
    "    print(\"Error : \" + str(e))"
   ]
  },
  {
   "cell_type": "code",
   "execution_count": 9,
   "id": "3ca1ac5f",
   "metadata": {},
   "outputs": [
    {
     "name": "stdout",
     "output_type": "stream",
     "text": [
      "conservation laws for general matter have applications numerical relativity simulations in this work we extend previously derived expressions to include angular momentum of matter and nothing's associated gauge symmetries expressions for the Nerf the charge influx of complex scalar fields and complex Fields are found using this formalism the conserved quantities associated with the angular momentum I found in numerically applied to the collision of Bodom stars in 3D with non-zero impact parameter convergence analysis shows the conversion conservation system to be obeyed in the Continuum limit for a space-time with known Killingbeck\n"
     ]
    }
   ],
   "source": [
    "try:\n",
    "    print(r.recognize_google(audiodata,language=\"en-GB\"))\n",
    "except Exception as e:\n",
    "    print(\"Error : \" + str(e))"
   ]
  },
  {
   "cell_type": "code",
   "execution_count": 18,
   "id": "41260962",
   "metadata": {},
   "outputs": [
    {
     "name": "stdout",
     "output_type": "stream",
     "text": [
      "press pass after a federal judge in that lawsuit by CNN order his credentials temporarily stored but then officials reverse themselves in agreed to permanently give the reporter back is hard pass seeing and drop the water and best in the outcome I must say I think this has been a significant victory for tea and then and for the country it's with reinforced through the courts and through the White House backing down we reinforce the sanctity of the First Amendment criticised by the judge for a lack of due process should rules that say every reporter who is cold and get you one question with fireworks at the present discussion and must give up the mic I have to work precisely would it cost of failed to do a refuse to do and his press conference confrontation with her because the judge said he is now or was it on 1st November grounds it doesn't erase the widely criticised Grande standing by Jim Acosta but there is no denying that scene and suit for steam installation to back down the White House fuse it's a strong message at disruptions and use comforters won't be tolerated and it would be encouraging in my view if both the president and the press were a bit more civil at these televise spectacle\n"
     ]
    }
   ],
   "source": [
    "base = \"oenox\" # \"xiglo\"\n",
    "audio = \"../voxconverse/audio/\" + base + \".wav\" \n",
    "truth = \"../voxconverse/dev/\" + base + \".rttm\" \n",
    "audio = sr.AudioFile(audio)\n",
    "with audio as source:\n",
    "    audiodata = r.record(source)\n",
    "try:\n",
    "    print(r.recognize_google(audiodata,language=\"en-US\"))\n",
    "except Exception as e:\n",
    "    print(\"Error : \" + str(e))"
   ]
  },
  {
   "cell_type": "code",
   "execution_count": null,
   "id": "e485bf17",
   "metadata": {},
   "outputs": [],
   "source": []
  }
 ],
 "metadata": {
  "kernelspec": {
   "display_name": "Python 3 (ipykernel)",
   "language": "python",
   "name": "python3"
  },
  "language_info": {
   "codemirror_mode": {
    "name": "ipython",
    "version": 3
   },
   "file_extension": ".py",
   "mimetype": "text/x-python",
   "name": "python",
   "nbconvert_exporter": "python",
   "pygments_lexer": "ipython3",
   "version": "3.8.10"
  }
 },
 "nbformat": 4,
 "nbformat_minor": 5
}
